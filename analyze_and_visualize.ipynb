{
 "cells": [
  {
   "cell_type": "markdown",
   "metadata": {},
   "source": [
    "# I. Numpy"
   ]
  },
  {
   "cell_type": "markdown",
   "metadata": {},
   "source": [
    "### Импортируйте NumPy"
   ]
  },
  {
   "cell_type": "code",
   "execution_count": 147,
   "metadata": {},
   "outputs": [],
   "source": [
    "import numpy as np\n"
   ]
  },
  {
   "cell_type": "markdown",
   "metadata": {},
   "source": [
    "### Создайте одномерный массив размера 10, заполненный нулями и пятым элемент равным 1. Трансформируйте в двумерный массив."
   ]
  },
  {
   "cell_type": "code",
   "execution_count": 148,
   "metadata": {},
   "outputs": [
    {
     "name": "stdout",
     "output_type": "stream",
     "text": [
      "[[0. 0. 0. 0. 1.]\n",
      " [0. 0. 0. 0. 0.]]\n"
     ]
    }
   ],
   "source": [
    "np_array = np.zeros(10)\n",
    "np_array[4] = 1\n",
    "np_marix = np_array.reshape(2, 5)\n",
    "print(np_marix)"
   ]
  },
  {
   "cell_type": "markdown",
   "metadata": {},
   "source": [
    "### Создайте одномерный массив со значениями от 10 до 49 и разверните его (первый элемент становится последним). Найдите в нем все четные элементы."
   ]
  },
  {
   "cell_type": "code",
   "execution_count": 149,
   "metadata": {},
   "outputs": [
    {
     "name": "stdout",
     "output_type": "stream",
     "text": [
      "[38 23 18 15 18 30 46 44 32 35]\n",
      "[35 32 44 46 30 18 15 18 23 38]\n",
      "[32 44 46 30 18 18 38]\n"
     ]
    }
   ],
   "source": [
    "np_array = np.random.randint(10, 49, 10)\n",
    "print(np_array)\n",
    "np_array_reversed = np.flip(np_array)\n",
    "print(np_array_reversed)\n",
    "np_array_reversed_filtered = np_array_reversed[(np_array_reversed % 2 == 0)]\n",
    "print(np_array_reversed_filtered)"
   ]
  },
  {
   "cell_type": "markdown",
   "metadata": {},
   "source": [
    "### Создайте двумерный массив 3x3 со значениями от 0 до 8"
   ]
  },
  {
   "cell_type": "code",
   "execution_count": 150,
   "metadata": {},
   "outputs": [
    {
     "name": "stdout",
     "output_type": "stream",
     "text": [
      "[[3 7 1]\n",
      " [4 2 6]\n",
      " [3 7 7]]\n"
     ]
    }
   ],
   "source": [
    "np_array = np.random.randint(0, 8, [3,3])\n",
    "print(np_array)"
   ]
  },
  {
   "cell_type": "markdown",
   "metadata": {},
   "source": [
    "### Создайте массив 4x3x2 со случайными значениями. Найти его минимум и максимум."
   ]
  },
  {
   "cell_type": "code",
   "execution_count": 151,
   "metadata": {},
   "outputs": [
    {
     "name": "stdout",
     "output_type": "stream",
     "text": [
      "[[[0.83697581 0.93574815]\n",
      "  [0.61782518 0.42992074]\n",
      "  [0.25579521 0.83677916]]\n",
      "\n",
      " [[0.85846127 0.59657771]\n",
      "  [0.63785366 0.71974447]\n",
      "  [0.52290642 0.54037648]]\n",
      "\n",
      " [[0.69193692 0.91298308]\n",
      "  [0.62564825 0.68842088]\n",
      "  [0.08525381 0.90873894]]\n",
      "\n",
      " [[0.04101653 0.83145589]\n",
      "  [0.87396523 0.86790891]\n",
      "  [0.76556015 0.28075381]]]\n",
      "(4, 3, 2)\n",
      "0.04101652786747012\n"
     ]
    }
   ],
   "source": [
    "np_array = np.random.random([4,3,2])\n",
    "print(np_array)\n",
    "print(np_array.shape)\n",
    "min = np.min(np_array)\n",
    "print(min)"
   ]
  },
  {
   "cell_type": "markdown",
   "metadata": {},
   "source": [
    "### Создайте два двумерных массива размерами 6x4 и 4x3 и произведите их матричное умножение. "
   ]
  },
  {
   "cell_type": "code",
   "execution_count": 152,
   "metadata": {},
   "outputs": [
    {
     "name": "stdout",
     "output_type": "stream",
     "text": [
      "[[0.82985098 0.87693598 0.80293059 0.86968486]\n",
      " [0.28087152 0.99249708 0.037745   0.08160406]\n",
      " [0.4580297  0.57761356 0.73030422 0.43913935]\n",
      " [0.77628406 0.53600382 0.62898858 0.78558392]\n",
      " [0.8672932  0.53719153 0.48588594 0.76625093]\n",
      " [0.56295206 0.84659702 0.00708512 0.72146542]]\n",
      "[[0.21846194 0.9411693  0.0211946 ]\n",
      " [0.79485286 0.80305172 0.5521309 ]\n",
      " [0.03956028 0.38863478 0.60637096]\n",
      " [0.96752865 0.78765929 0.8246961 ]]\n",
      "[[1.7515351  2.48231733 1.70587132]\n",
      " [0.93069634 1.14031935 0.64412729]\n",
      " [1.01295079 1.52465087 1.13361783]\n",
      " [1.38059061 2.02427283 1.34166572]\n",
      " [1.37705029 2.04003915 1.24153326]\n",
      " [1.49422241 1.78071685 1.07864985]]\n"
     ]
    }
   ],
   "source": [
    "a1 = np.random.random([6,4])\n",
    "a2 = np.random.random([4,3])\n",
    "a3 = np.matmul(a1, a2)\n",
    "print(a1)\n",
    "print(a2)\n",
    "print(a3)"
   ]
  },
  {
   "cell_type": "markdown",
   "metadata": {},
   "source": [
    "### Создайте случайный двумерный массив 7x7, найти у него среднее и стандартное оклонение. Нормализуйте этот массив."
   ]
  },
  {
   "cell_type": "code",
   "execution_count": 153,
   "metadata": {},
   "outputs": [
    {
     "name": "stdout",
     "output_type": "stream",
     "text": [
      "0.3339327147707174\n",
      "0.47453559644567656\n",
      "4.061780326915965\n"
     ]
    }
   ],
   "source": [
    "np_array = np.random.random([7,7])\n",
    "std = np.std(np_array)\n",
    "mean = np.mean(np_array)\n",
    "normalized = np.linalg.norm(np_array)\n",
    "print(std)\n",
    "print(mean)\n",
    "print(normalized)"
   ]
  },
  {
   "cell_type": "markdown",
   "metadata": {},
   "source": [
    "# II. Pandas"
   ]
  },
  {
   "cell_type": "markdown",
   "metadata": {},
   "source": [
    "### Импортируйте: pandas, matplotlib, seaborn"
   ]
  },
  {
   "cell_type": "code",
   "execution_count": 154,
   "metadata": {},
   "outputs": [],
   "source": [
    "import pandas as pd\n",
    "import matplotlib as mpl\n",
    "import seaborn as sb"
   ]
  },
  {
   "cell_type": "markdown",
   "metadata": {},
   "source": [
    "### Загрузите датасет Tips из набора датасетов seaborn"
   ]
  },
  {
   "cell_type": "code",
   "execution_count": 155,
   "metadata": {},
   "outputs": [],
   "source": [
    "tips = sb.load_dataset(\"tips\")"
   ]
  },
  {
   "cell_type": "markdown",
   "metadata": {},
   "source": [
    "### Посмотрите на первые 5 строчек"
   ]
  },
  {
   "cell_type": "code",
   "execution_count": 156,
   "metadata": {},
   "outputs": [
    {
     "name": "stdout",
     "output_type": "stream",
     "text": [
      "   total_bill   tip     sex smoker  day    time  size\n",
      "0       16.99  1.01  Female     No  Sun  Dinner     2\n",
      "1       10.34  1.66    Male     No  Sun  Dinner     3\n",
      "2       21.01  3.50    Male     No  Sun  Dinner     3\n",
      "3       23.68  3.31    Male     No  Sun  Dinner     2\n",
      "4       24.59  3.61  Female     No  Sun  Dinner     4\n"
     ]
    }
   ],
   "source": [
    "first_5_rows = tips.head(5)\n",
    "print(first_5_rows)"
   ]
  },
  {
   "cell_type": "markdown",
   "metadata": {},
   "source": [
    "### Узнайте сколько всего строчек и колонок в данных"
   ]
  },
  {
   "cell_type": "code",
   "execution_count": 157,
   "metadata": {},
   "outputs": [
    {
     "name": "stdout",
     "output_type": "stream",
     "text": [
      "1708\n",
      "7\n"
     ]
    }
   ],
   "source": [
    "row_count = tips.size\n",
    "column_count = tips.columns.size\n",
    "print(row_count)\n",
    "print(column_count)"
   ]
  },
  {
   "cell_type": "markdown",
   "metadata": {},
   "source": [
    "### Проверьте есть ли пропуски в данных"
   ]
  },
  {
   "cell_type": "code",
   "execution_count": 158,
   "metadata": {},
   "outputs": [
    {
     "name": "stdout",
     "output_type": "stream",
     "text": [
      "total_bill    False\n",
      "tip           False\n",
      "sex           False\n",
      "smoker        False\n",
      "day           False\n",
      "time          False\n",
      "size          False\n",
      "dtype: bool\n"
     ]
    }
   ],
   "source": [
    "has_empty_values = tips.isnull().any()\n",
    "print(has_empty_values)"
   ]
  },
  {
   "cell_type": "markdown",
   "metadata": {},
   "source": [
    "### Посмотрите на распределение числовых признаков"
   ]
  },
  {
   "cell_type": "code",
   "execution_count": null,
   "metadata": {},
   "outputs": [],
   "source": []
  },
  {
   "cell_type": "markdown",
   "metadata": {},
   "source": [
    "### Найдите максимальное значение 'total_bill'"
   ]
  },
  {
   "cell_type": "code",
   "execution_count": 159,
   "metadata": {},
   "outputs": [
    {
     "name": "stdout",
     "output_type": "stream",
     "text": [
      "50.81\n"
     ]
    }
   ],
   "source": [
    "total_bill_max = tips.loc[:, 'total_bill'].max()\n",
    "print(total_bill_max)"
   ]
  },
  {
   "cell_type": "markdown",
   "metadata": {},
   "source": [
    "### Найдите количество курящих людей"
   ]
  },
  {
   "cell_type": "code",
   "execution_count": 160,
   "metadata": {},
   "outputs": [
    {
     "name": "stdout",
     "output_type": "stream",
     "text": [
      "651\n"
     ]
    }
   ],
   "source": [
    "smokers_count = tips.loc[(tips['smoker'] == \"Yes\")].size\n",
    "print(smokers_count)"
   ]
  },
  {
   "cell_type": "markdown",
   "metadata": {},
   "source": [
    "### Узнайте какой средний 'total_bill' в зависимости от 'day'"
   ]
  },
  {
   "cell_type": "code",
   "execution_count": 161,
   "metadata": {},
   "outputs": [
    {
     "name": "stdout",
     "output_type": "stream",
     "text": [
      "           Mean\n",
      "day            \n",
      "Thur  17.682742\n",
      "Fri   17.151579\n",
      "Sat   20.441379\n",
      "Sun   21.410000\n"
     ]
    }
   ],
   "source": [
    "total_bill_avg = tips.groupby('day').agg(Mean=('total_bill', np.mean))\n",
    "print(total_bill_avg)"
   ]
  },
  {
   "cell_type": "markdown",
   "metadata": {},
   "source": [
    "### Отберите строчки с 'total_bill' больше медианы и узнайте какой средний 'tip' в зависимости от 'sex'"
   ]
  },
  {
   "cell_type": "code",
   "execution_count": 162,
   "metadata": {},
   "outputs": [
    {
     "name": "stdout",
     "output_type": "stream",
     "text": [
      "     total_bill   tip     sex smoker   day    time  size\n",
      "2         21.01  3.50    Male     No   Sun  Dinner     3\n",
      "3         23.68  3.31    Male     No   Sun  Dinner     2\n",
      "4         24.59  3.61  Female     No   Sun  Dinner     4\n",
      "5         25.29  4.71    Male     No   Sun  Dinner     4\n",
      "7         26.88  3.12    Male     No   Sun  Dinner     4\n",
      "..          ...   ...     ...    ...   ...     ...   ...\n",
      "239       29.03  5.92    Male     No   Sat  Dinner     3\n",
      "240       27.18  2.00  Female    Yes   Sat  Dinner     2\n",
      "241       22.67  2.00    Male    Yes   Sat  Dinner     2\n",
      "242       17.82  1.75    Male     No   Sat  Dinner     2\n",
      "243       18.78  3.00  Female     No  Thur  Dinner     2\n",
      "\n",
      "[122 rows x 7 columns]\n",
      "            Mean\n",
      "sex             \n",
      "Male    3.089618\n",
      "Female  2.833448\n"
     ]
    }
   ],
   "source": [
    "total_bill_med = tips.loc[:, 'total_bill'].median()\n",
    "filtered_tips = tips.loc[(tips['total_bill'] > total_bill_med)]\n",
    "print(filtered_tips)\n",
    "avg_tip_by_sex = tips.groupby('sex').agg(Mean=('tip', np.mean))\n",
    "print(avg_tip_by_sex)"
   ]
  },
  {
   "cell_type": "markdown",
   "metadata": {},
   "source": [
    "### Преобразуйте признак 'smoker' в бинарный (0-No, 1-Yes)"
   ]
  },
  {
   "cell_type": "code",
   "execution_count": 177,
   "metadata": {},
   "outputs": [
    {
     "name": "stdout",
     "output_type": "stream",
     "text": [
      "     total_bill   tip     sex smoker   day    time  size smoker_bin\n",
      "0         16.99  1.01  Female     No   Sun  Dinner     2          0\n",
      "1         10.34  1.66    Male     No   Sun  Dinner     3          0\n",
      "2         21.01  3.50    Male     No   Sun  Dinner     3          0\n",
      "3         23.68  3.31    Male     No   Sun  Dinner     2          0\n",
      "4         24.59  3.61  Female     No   Sun  Dinner     4          0\n",
      "..          ...   ...     ...    ...   ...     ...   ...        ...\n",
      "239       29.03  5.92    Male     No   Sat  Dinner     3          0\n",
      "240       27.18  2.00  Female    Yes   Sat  Dinner     2          1\n",
      "241       22.67  2.00    Male    Yes   Sat  Dinner     2          1\n",
      "242       17.82  1.75    Male     No   Sat  Dinner     2          0\n",
      "243       18.78  3.00  Female     No  Thur  Dinner     2          0\n",
      "\n",
      "[244 rows x 8 columns]\n"
     ]
    }
   ],
   "source": [
    "def map(x):\n",
    "    if (x == \"Yes\"): return '1'\n",
    "    return '0'\n",
    "\n",
    "for i, row in tips.iterrows():\n",
    "    tips.at[i, 'smoker_bin'] = map(row['smoker'])\n",
    "\n",
    "print(tips)\n"
   ]
  },
  {
   "cell_type": "markdown",
   "metadata": {},
   "source": [
    "# III. Visualization"
   ]
  },
  {
   "cell_type": "markdown",
   "metadata": {},
   "source": [
    "### Постройте гистограмму распределения признака 'total_bill'"
   ]
  },
  {
   "cell_type": "code",
   "execution_count": null,
   "metadata": {},
   "outputs": [],
   "source": []
  },
  {
   "cell_type": "markdown",
   "metadata": {},
   "source": [
    "### Постройте scatterplot, представляющий взаимосвязь между признаками 'total_bill' и 'tip'"
   ]
  },
  {
   "cell_type": "code",
   "execution_count": null,
   "metadata": {},
   "outputs": [],
   "source": []
  },
  {
   "cell_type": "markdown",
   "metadata": {},
   "source": [
    "### Постройте pairplot"
   ]
  },
  {
   "cell_type": "code",
   "execution_count": null,
   "metadata": {},
   "outputs": [],
   "source": []
  },
  {
   "cell_type": "markdown",
   "metadata": {},
   "source": [
    "### Постройте график взаимосвязи между признаками 'total_bill' и 'day'"
   ]
  },
  {
   "cell_type": "code",
   "execution_count": null,
   "metadata": {},
   "outputs": [],
   "source": []
  },
  {
   "cell_type": "markdown",
   "metadata": {},
   "source": [
    "### Постройте две гистограммы распределения признака 'tip' в зависимости от категорий 'time'"
   ]
  },
  {
   "cell_type": "code",
   "execution_count": null,
   "metadata": {},
   "outputs": [],
   "source": []
  },
  {
   "cell_type": "markdown",
   "metadata": {},
   "source": [
    "### Постройте два графика scatterplot, представляющих взаимосвязь между признаками 'total_bill' и 'tip' один для Male, другой для Female и раскрасьте точки в зависимоти от признака 'smoker'"
   ]
  },
  {
   "cell_type": "code",
   "execution_count": null,
   "metadata": {},
   "outputs": [],
   "source": []
  },
  {
   "cell_type": "markdown",
   "metadata": {},
   "source": [
    "## Сделайте выводы по анализу датасета и построенным графикам. По желанию можете продолжить анализ данных и также отразить это в выводах."
   ]
  },
  {
   "cell_type": "code",
   "execution_count": null,
   "metadata": {},
   "outputs": [],
   "source": []
  }
 ],
 "metadata": {
  "kernelspec": {
   "display_name": "Python 3 (ipykernel)",
   "language": "python",
   "name": "python3"
  },
  "language_info": {
   "codemirror_mode": {
    "name": "ipython",
    "version": 3
   },
   "file_extension": ".py",
   "mimetype": "text/x-python",
   "name": "python",
   "nbconvert_exporter": "python",
   "pygments_lexer": "ipython3",
   "version": "3.11.4"
  },
  "toc-autonumbering": false
 },
 "nbformat": 4,
 "nbformat_minor": 2
}
